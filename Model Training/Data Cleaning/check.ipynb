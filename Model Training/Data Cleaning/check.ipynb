{
 "cells": [
  {
   "cell_type": "code",
   "execution_count": 1,
   "metadata": {},
   "outputs": [],
   "source": [
    "import os\n",
    "import numpy as np\n",
    "from tensorflow.keras.preprocessing import image\n",
    "from tensorflow.keras.utils import to_categorical\n",
    "from sklearn.preprocessing import LabelEncoder\n",
    "from tensorflow.keras.preprocessing.image import ImageDataGenerator\n",
    "\n",
    "# Assuming images are stored in a flat folder without subdirectories\n",
    "test_dir = r'C:/Users/Darsh/Desktop/Project/mp/asl_alphabet_test/asl_alphabet_test/'\n",
    "\n",
    "# Load image filenames and their respective labels (assuming the filenames indicate the class)\n",
    "image_paths = []\n",
    "labels = []\n",
    "\n",
    "# You would need to create a dictionary that maps class labels (e.g., 'A', 'B', ...) to numeric labels\n",
    "class_names = sorted(os.listdir(test_dir))  # Alphabetically sorted class labels\n",
    "\n",
    "# You might need to label them manually, or if you know the filename format, extract the labels.\n",
    "# Here, we assume the filenames follow the pattern: 'A_1.jpg', 'B_2.jpg', etc.\n",
    "for class_name in class_names:\n",
    "    if os.path.isdir(os.path.join(test_dir, class_name)):  # Skip non-folder files\n",
    "        for img_file in os.listdir(os.path.join(test_dir, class_name)):\n",
    "            image_paths.append(os.path.join(test_dir, class_name, img_file))\n",
    "            labels.append(class_name)\n",
    "\n",
    "# Convert labels to numeric values\n",
    "label_encoder = LabelEncoder()\n",
    "labels = label_encoder.fit_transform(labels)\n",
    "\n",
    "# Load and preprocess the images\n",
    "test_images = []\n",
    "for img_path in image_paths:\n",
    "    img = image.load_img(img_path, target_size=(224, 224))\n",
    "    img_array = image.img_to_array(img) / 255.0  # Normalize\n",
    "    test_images.append(img_array)\n",
    "\n",
    "test_images = np.array(test_images)\n",
    "labels = np.array(labels)\n",
    "\n",
    "# Convert labels to categorical format (one-hot encoding)\n",
    "labels = to_categorical(labels, num_classes=29)\n",
    "\n",
    "# Create a test generator manually (since we don't use flow_from_directory)\n",
    "test_generator = (test_images, labels)\n",
    "\n",
    "# Evaluate the model\n",
    "# test_loss, test_accuracy = model.evaluate(test_images, labels)\n",
    "# print(f\"Test Accuracy: {test_accuracy * 100:.2f}%\")\n"
   ]
  },
  {
   "cell_type": "code",
   "execution_count": null,
   "metadata": {},
   "outputs": [],
   "source": []
  },
  {
   "cell_type": "code",
   "execution_count": null,
   "metadata": {},
   "outputs": [],
   "source": []
  }
 ],
 "metadata": {
  "kernelspec": {
   "display_name": "Python 3",
   "language": "python",
   "name": "python3"
  },
  "language_info": {
   "codemirror_mode": {
    "name": "ipython",
    "version": 3
   },
   "file_extension": ".py",
   "mimetype": "text/x-python",
   "name": "python",
   "nbconvert_exporter": "python",
   "pygments_lexer": "ipython3",
   "version": "3.12.5"
  }
 },
 "nbformat": 4,
 "nbformat_minor": 2
}
